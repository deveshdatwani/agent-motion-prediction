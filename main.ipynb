{
 "cells": [
  {
   "cell_type": "markdown",
   "id": "a2be65dd",
   "metadata": {},
   "source": [
    "<b> <p style=\"text-align: center; font-size:30px\"> FINAL PROJECT AI4AV RBE595 </p> </b> <br>\n",
    "<b> <p style=\"text-align: center; font-size:25px\"> Worcester Polytechnic Institute </p> </b> <br>\n",
    "<b> <p style=\"text-align: center; font-size:20px\"> April 2022 </p> </b>\n",
    "\n",
    "<b> <p style=\"text-align: center; font-size:15px;\"> Aakash Rohra </p>  </b>\n",
    "<b> <p style=\"text-align: center; font-size:15px\"> Devesh Datwani </p> </b>"
   ]
  },
  {
   "cell_type": "markdown",
   "id": "994ea785",
   "metadata": {},
   "source": [
    "## <p style=\"text-align: center;\"> Abstract </p> \n",
    "\n",
    "This project presents a method based on a convolution neural network to predict agent motion for autonomous driving. The method helps improve/accelerate the solving of self-driving cars by a data driven approach to predict agent motion around the ego vehicle. We train an architecture based on ResNet on Woven Planets Level 5 prediction dataset. The goal of the project is to achieve a high level of prediction accuracy in both homogeneous and heterogeneous urban driving conditions. We evaluate the model on a pre-training split test dataset. Further we investigate the computational efficiency of such a model on a mobile device. A robust architecture may help in ensuring enhanced safety in self-driving modes of autonomous cars as well as reducing road mishaps that occur due to driver error. \n"
   ]
  },
  {
   "cell_type": "markdown",
   "id": "f680e84e",
   "metadata": {},
   "source": [
    "   "
   ]
  },
  {
   "cell_type": "markdown",
   "id": "a92724ff",
   "metadata": {},
   "source": [
    "<i style=\"font-size:20px;\"> Importing necessary libraries </i>"
   ]
  },
  {
   "cell_type": "code",
   "execution_count": 17,
   "id": "e5f6201d",
   "metadata": {},
   "outputs": [],
   "source": [
    "from typing import Dict\n",
    "\n",
    "from tempfile import gettempdir\n",
    "import matplotlib.pyplot as plt\n",
    "import numpy as np\n",
    "import torch\n",
    "from torch import nn, optim\n",
    "from torch.utils.data import DataLoader\n",
    "from torchvision.models.resnet import resnet50\n",
    "from tqdm import tqdm\n",
    "\n",
    "from l5kit.configs import load_config_data\n",
    "from l5kit.data import LocalDataManager, ChunkedDataset\n",
    "from l5kit.dataset import AgentDataset, EgoDataset\n",
    "from l5kit.rasterization import build_rasterizer\n",
    "from l5kit.evaluation import write_pred_csv, compute_metrics_csv, read_gt_csv, create_chopped_dataset\n",
    "from l5kit.evaluation.chop_dataset import MIN_FUTURE_STEPS\n",
    "from l5kit.evaluation.metrics import neg_multi_log_likelihood, time_displace\n",
    "from l5kit.geometry import transform_points\n",
    "from l5kit.visualization import PREDICTED_POINTS_COLOR, TARGET_POINTS_COLOR, draw_trajectory\n",
    "from prettytable import PrettyTable\n",
    "from pathlib import Path\n",
    "\n",
    "import os"
   ]
  },
  {
   "cell_type": "markdown",
   "id": "a6efadc2",
   "metadata": {},
   "source": [
    " "
   ]
  },
  {
   "cell_type": "markdown",
   "id": "9b5db59e",
   "metadata": {},
   "source": [
    "<i style=\"font-size:20px;\"> Loading the dataset and rasterizing to Bird's Eye View </i>"
   ]
  },
  {
   "cell_type": "code",
   "execution_count": 27,
   "id": "108d69b0",
   "metadata": {},
   "outputs": [],
   "source": [
    "zarr_dt = ChunkedDataset(\"sample.zarr\")\n",
    "zarr_dt.open()\n",
    "\n",
    "cfg = load_config_data(\"agent_motion_config.yaml\")\n",
    "os.environ[\"L5KIT_DATA_FOLDER\"] = \"sample.zarr\"\n",
    "rast = build_rasterizer(cfg, LocalDataManager(\"sample.zarr\"))\n",
    "dataset = AgentDataset(cfg, zarr_dt, rast)\n",
    "\n",
    "agent_idxs = range(0, len(dataset))"
   ]
  },
  {
   "cell_type": "markdown",
   "id": "ecd8b928",
   "metadata": {},
   "source": [
    " "
   ]
  },
  {
   "cell_type": "markdown",
   "id": "91a525c7",
   "metadata": {},
   "source": [
    "<i style=\"font-size:20px;\"> Visualizing a scene </i>"
   ]
  },
  {
   "cell_type": "code",
   "execution_count": 3,
   "id": "daba7984",
   "metadata": {},
   "outputs": [
    {
     "data": {
      "image/png": "[encoded data removed]",
      "text/plain": [
       "<Figure size 432x288 with 1 Axes>"
      ]
     },
     "metadata": {
      "needs_background": "light"
     },
     "output_type": "display_data"
    }
   ],
   "source": [
    "img = dataset[0]['image']\n",
    "im = img.transpose(1, 2, 0)\n",
    "im = dataset.rasterizer.to_rgb(im)\n",
    "from matplotlib import pyplot as plt\n",
    "\n",
    "plt.imshow(im)\n",
    "plt.show()"
   ]
  },
  {
   "cell_type": "markdown",
   "id": "f41a09d2",
   "metadata": {},
   "source": [
    " "
   ]
  },
  {
   "cell_type": "markdown",
   "id": "7c46ac56",
   "metadata": {},
   "source": [
    "<i style=\"font-size:20px\"> Building a Resnet50 </i>"
   ]
  },
  {
   "cell_type": "code",
   "execution_count": 16,
   "id": "3f4b7a9a",
   "metadata": {},
   "outputs": [],
   "source": [
    "def build_model(cfg: Dict) -> torch.nn.Module:\n",
    "    # load pre-trained Conv2D model\n",
    "    model = resnet50(pretrained=True)\n",
    "\n",
    "    # change input size\n",
    "    num_history_channels = (cfg[\"model_params\"][\"history_num_frames\"] + 1) * 2\n",
    "    num_in_channels = 3 + num_history_channels\n",
    "    model.conv1 = nn.Conv2d(\n",
    "        num_in_channels,\n",
    "        model.conv1.out_channels,\n",
    "        kernel_size=model.conv1.kernel_size,\n",
    "        stride=model.conv1.stride,\n",
    "        padding=model.conv1.padding,\n",
    "        bias=False,\n",
    "    )\n",
    "    # change output size\n",
    "    # X, Y  * number of future states\n",
    "    num_targets = 2 * cfg[\"model_params\"][\"future_num_frames\"]\n",
    "    model.fc = nn.Linear(in_features=2048, out_features=num_targets)\n",
    "\n",
    "    return model\n",
    "\n",
    "\n",
    "def forward(data, model, device, criterion):\n",
    "    inputs = data[\"image\"].to(device)\n",
    "    target_availabilities = data[\"target_availabilities\"].unsqueeze(-1).to(device)\n",
    "    targets = data[\"target_positions\"].to(device)\n",
    "    # Forward pass\n",
    "    outputs = model(inputs).reshape(targets.shape)\n",
    "    loss = criterion(outputs, targets)\n",
    "    # not all the output steps are valid, but we can filter them out from the loss using availabilities\n",
    "    loss = loss * target_availabilities\n",
    "    loss = loss.mean()\n",
    "    return loss, outputs"
   ]
  },
  {
   "cell_type": "code",
   "execution_count": 19,
   "id": "34e3ed63",
   "metadata": {},
   "outputs": [],
   "source": [
    "model = build_model(cfg)"
   ]
  },
  {
   "cell_type": "code",
   "execution_count": 28,
   "id": "015b6169",
   "metadata": {},
   "outputs": [
    {
     "name": "stderr",
     "output_type": "stream",
     "text": [
      "/home/devesh/.local/lib/python3.8/site-packages/torch/utils/data/dataloader.py:478: UserWarning: This DataLoader will create 16 worker processes in total. Our suggested max number of worker in current system is 8, which is smaller than what this DataLoader is going to create. Please be aware that excessive worker creation might get DataLoader running slow or even freeze, lower the worker number to avoid potential slowness/freeze if necessary.\n",
      "  warnings.warn(_create_warning_msg(\n"
     ]
    }
   ],
   "source": [
    "train_cfg = cfg[\"train_data_loader\"]\n",
    "rasterizer = build_rasterizer(cfg, dm)\n",
    "train_zarr = ChunkedDataset(dm.require(train_cfg[\"key\"])).open()\n",
    "train_dataset = AgentDataset(cfg, train_zarr, rasterizer)\n",
    "train_dataloader = DataLoader(train_dataset, shuffle=train_cfg[\"shuffle\"], batch_size=train_cfg[\"batch_size\"], num_workers=train_cfg[\"num_workers\"])"
   ]
  },
  {
   "cell_type": "code",
   "execution_count": 29,
   "id": "39393476",
   "metadata": {},
   "outputs": [],
   "source": [
    "device = torch.device(\"cuda:0\" if torch.cuda.is_available() else \"cpu\")\n",
    "model = build_model(cfg).to(device)\n",
    "optimizer = optim.Adam(model.parameters(), lr=1e-3)\n",
    "criterion = nn.MSELoss(reduction=\"none\")"
   ]
  },
  {
   "cell_type": "markdown",
   "id": "2a024d89",
   "metadata": {},
   "source": [
    " "
   ]
  },
  {
   "cell_type": "markdown",
   "id": "9cb9a302",
   "metadata": {},
   "source": [
    "<i style=\"font-size:20px;\"> Training </i>"
   ]
  },
  {
   "cell_type": "code",
   "execution_count": 30,
   "id": "77bfcdb2",
   "metadata": {},
   "outputs": [
    {
     "name": "stderr",
     "output_type": "stream",
     "text": [
      "loss: 1.8957703113555908 loss(avg): 107.34261155128479: 100%|██████████| 5/5 [00:27<00:00,  5.42s/it]\n"
     ]
    }
   ],
   "source": [
    "tr_it = iter(train_dataloader)\n",
    "progress_bar = tqdm(range(cfg[\"train_params\"][\"max_num_steps\"]))\n",
    "losses_train = []\n",
    "for _ in progress_bar:\n",
    "    try:\n",
    "        data = next(tr_it)\n",
    "    except StopIteration:\n",
    "        tr_it = iter(train_dataloader)\n",
    "        data = next(tr_it)\n",
    "    model.train()\n",
    "    torch.set_grad_enabled(True)\n",
    "    loss, _ = forward(data, model, device, criterion)\n",
    "\n",
    "    # Backward pass\n",
    "    optimizer.zero_grad()\n",
    "    loss.backward()\n",
    "    optimizer.step()\n",
    "\n",
    "    losses_train.append(loss.item())\n",
    "    progress_bar.set_description(f\"loss: {loss.item()} loss(avg): {np.mean(losses_train)}\")"
   ]
  },
  {
   "cell_type": "markdown",
   "id": "ec9e82a4",
   "metadata": {},
   "source": [
    " "
   ]
  },
  {
   "cell_type": "markdown",
   "id": "634e020c",
   "metadata": {},
   "source": [
    "<i style=\"font-size: 20px\"> Plotting curves </i>"
   ]
  },
  {
   "cell_type": "code",
   "execution_count": 31,
   "id": "bdacf73e",
   "metadata": {},
   "outputs": [
    {
     "data": {
      "image/png": "[encoded data removed]",
      "text/plain": [
       "<Figure size 432x288 with 1 Axes>"
      ]
     },
     "metadata": {
      "needs_background": "light"
     },
     "output_type": "display_data"
    }
   ],
   "source": [
    "plt.plot(np.arange(len(losses_train)), losses_train, label=\"train loss\")\n",
    "plt.legend()\n",
    "plt.show()"
   ]
  },
  {
   "cell_type": "markdown",
   "id": "e9d72664",
   "metadata": {},
   "source": [
    " "
   ]
  },
  {
   "cell_type": "markdown",
   "id": "00a1d073",
   "metadata": {},
   "source": [
    "<i style=\"font-size:20px\"> Evaluation </i>"
   ]
  },
  {
   "cell_type": "code",
   "execution_count": 39,
   "id": "8e624bb4",
   "metadata": {},
   "outputs": [],
   "source": [
    "# ===== GENERATE AND LOAD CHOPPED DATASET\n",
    "num_frames_to_chop = 100\n",
    "eval_cfg = cfg[\"val_data_loader\"]\n",
    "eval_base_path = create_chopped_dataset(dm.require(eval_cfg[\"key\"]), cfg[\"raster_params\"][\"filter_agents_threshold\"], \n",
    "                              num_frames_to_chop, cfg[\"model_params\"][\"future_num_frames\"], MIN_FUTURE_STEPS)\n",
    "\n",
    "eval_zarr_path = str(Path(eval_base_path) / Path(dm.require(eval_cfg[\"key\"])).name)\n",
    "eval_mask_path = str(Path(eval_base_path) / \"mask.npz\")\n",
    "eval_gt_path = str(Path(eval_base_path) / \"gt.csv\")\n",
    "\n",
    "eval_zarr = ChunkedDataset(eval_zarr_path).open()\n",
    "eval_mask = np.load(eval_mask_path)[\"arr_0\"]\n",
    "# ===== INIT DATASET AND LOAD MASK\n",
    "eval_dataset = AgentDataset(cfg, eval_zarr, rasterizer, agents_mask=eval_mask)\n",
    "eval_dataloader = DataLoader(eval_dataset, shuffle=eval_cfg[\"shuffle\"], batch_size=eval_cfg[\"batch_size\"], \n",
    "                             num_workers=eval_cfg[\"num_workers\"])\n",
    "print(eval_dataset)"
   ]
  },
  {
   "cell_type": "markdown",
   "id": "a9d1e3cc",
   "metadata": {},
   "source": [
    "  "
   ]
  },
  {
   "cell_type": "markdown",
   "id": "3cca48c4",
   "metadata": {},
   "source": [
    "<i style=\"font-size:20px\"> Storing predictions </i>"
   ]
  },
  {
   "cell_type": "code",
   "execution_count": 42,
   "id": "4e147f8a",
   "metadata": {},
   "outputs": [],
   "source": [
    "# ==== EVAL LOOP\n",
    "model.eval()\n",
    "torch.set_grad_enabled(False)\n",
    "\n",
    "# store information for evaluation\n",
    "future_coords_offsets_pd = []\n",
    "timestamps = []\n",
    "agent_ids = []\n",
    "\n",
    "progress_bar = tqdm(eval_dataloader)\n",
    "for data in progress_bar:\n",
    "    _, ouputs = forward(data, model, device, criterion)\n",
    "    \n",
    "    # convert agent coordinates into world offsets\n",
    "    agents_coords = ouputs.cpu().numpy()\n",
    "    world_from_agents = data[\"world_from_agent\"].numpy()\n",
    "    centroids = data[\"centroid\"].numpy()\n",
    "    coords_offset = transform_points(agents_coords, world_from_agents) - centroids[:, None, :2]\n",
    "    \n",
    "    future_coords_offsets_pd.append(np.stack(coords_offset))\n",
    "    timestamps.append(data[\"timestamp\"].numpy().copy())\n",
    "    agent_ids.append(data[\"track_id\"].numpy().copy())\n",
    "    "
   ]
  },
  {
   "cell_type": "markdown",
   "id": "8153a3f3",
   "metadata": {},
   "source": [
    " "
   ]
  },
  {
   "cell_type": "markdown",
   "id": "973dd716",
   "metadata": {},
   "source": [
    " \n",
    " "
   ]
  },
  {
   "cell_type": "markdown",
   "id": "aab33f23",
   "metadata": {},
   "source": [
    "<i style=\"font-size:20px\"> Saving results </i>"
   ]
  },
  {
   "cell_type": "code",
   "execution_count": 45,
   "id": "63c98064",
   "metadata": {},
   "outputs": [],
   "source": [
    "pred_path = f\"{gettempdir()}/pred.csv\"\n",
    "\n",
    "write_pred_csv(pred_path,\n",
    "               timestamps=np.concatenate(timestamps),\n",
    "               track_ids=np.concatenate(agent_ids),\n",
    "               coords=np.concatenate(future_coords_offsets_pd),\n",
    "              )"
   ]
  },
  {
   "cell_type": "markdown",
   "id": "a16eed93",
   "metadata": {},
   "source": [
    " "
   ]
  },
  {
   "cell_type": "markdown",
   "id": "f05c31a2",
   "metadata": {},
   "source": [
    "<i style=\"font-size:20px\"> Perform eval </i>"
   ]
  },
  {
   "cell_type": "code",
   "execution_count": null,
   "id": "0b93a334",
   "metadata": {},
   "outputs": [],
   "source": [
    "metrics = compute_metrics_csv(eval_gt_path, pred_path, [neg_multi_log_likelihood, time_displace])\n",
    "for metric_name, metric_mean in metrics.items():\n",
    "    print(metric_name, metric_mean)\n"
   ]
  },
  {
   "cell_type": "markdown",
   "id": "9977a685",
   "metadata": {},
   "source": [
    " "
   ]
  },
  {
   "cell_type": "markdown",
   "id": "12aefca1",
   "metadata": {},
   "source": [
    "<i style=\"font-size:20px\"> Visualize results </i>"
   ]
  },
  {
   "cell_type": "code",
   "execution_count": null,
   "id": "c829c6bc",
   "metadata": {},
   "outputs": [],
   "source": [
    "model.eval()\n",
    "torch.set_grad_enabled(False)\n",
    "\n",
    "# build a dict to retrieve future trajectories from GT\n",
    "gt_rows = {}\n",
    "for row in read_gt_csv(eval_gt_path):\n",
    "    gt_rows[row[\"track_id\"] + row[\"timestamp\"]] = row[\"coord\"]\n",
    "\n",
    "eval_ego_dataset = EgoDataset(cfg, eval_dataset.dataset, rasterizer)\n",
    "\n",
    "for frame_number in range(99, len(eval_zarr.frames), 100):  # start from last frame of scene_0 and increase by 100\n",
    "    agent_indices = eval_dataset.get_frame_indices(frame_number) \n",
    "    if not len(agent_indices):\n",
    "        continue\n",
    "\n",
    "    # get AV point-of-view frame\n",
    "    data_ego = eval_ego_dataset[frame_number]\n",
    "    im_ego = rasterizer.to_rgb(data_ego[\"image\"].transpose(1, 2, 0))\n",
    "    center = np.asarray(cfg[\"raster_params\"][\"ego_center\"]) * cfg[\"raster_params\"][\"raster_size\"]\n",
    "    \n",
    "    predicted_positions = []\n",
    "    target_positions = []\n",
    "\n",
    "    for v_index in agent_indices:\n",
    "        data_agent = eval_dataset[v_index]\n",
    "\n",
    "        out_net = model(torch.from_numpy(data_agent[\"image\"]).unsqueeze(0).to(device))\n",
    "        out_pos = out_net[0].reshape(-1, 2).detach().cpu().numpy()\n",
    "        # store absolute world coordinates\n",
    "        predicted_positions.append(transform_points(out_pos, data_agent[\"world_from_agent\"]))\n",
    "        # retrieve target positions from the GT and store as absolute coordinates\n",
    "        track_id, timestamp = data_agent[\"track_id\"], data_agent[\"timestamp\"]\n",
    "        target_positions.append(gt_rows[str(track_id) + str(timestamp)] + data_agent[\"centroid\"][:2])\n",
    "\n",
    "\n",
    "    # convert coordinates to AV point-of-view so we can draw them\n",
    "    predicted_positions = transform_points(np.concatenate(predicted_positions), data_ego[\"raster_from_world\"])\n",
    "    target_positions = transform_points(np.concatenate(target_positions), data_ego[\"raster_from_world\"])\n",
    "\n",
    "    draw_trajectory(im_ego, predicted_positions, PREDICTED_POINTS_COLOR)\n",
    "    draw_trajectory(im_ego, target_positions, TARGET_POINTS_COLOR)\n",
    "\n",
    "    plt.imshow(im_ego)\n",
    "    plt.show()"
   ]
  }
 ],
 "metadata": {
  "kernelspec": {
   "display_name": "Python 3",
   "language": "python",
   "name": "python3"
  },
  "language_info": {
   "codemirror_mode": {
    "name": "ipython",
    "version": 3
   },
   "file_extension": ".py",
   "mimetype": "text/x-python",
   "name": "python",
   "nbconvert_exporter": "python",
   "pygments_lexer": "ipython3",
   "version": "3.8.10"
  }
 },
 "nbformat": 4,
 "nbformat_minor": 5
}
